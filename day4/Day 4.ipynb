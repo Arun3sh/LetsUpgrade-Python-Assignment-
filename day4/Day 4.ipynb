{
 "cells": [
  {
   "cell_type": "markdown",
   "metadata": {},
   "source": [
    "# Question 1"
   ]
  },
  {
   "cell_type": "code",
   "execution_count": 16,
   "metadata": {},
   "outputs": [
    {
     "name": "stdout",
     "output_type": "stream",
     "text": [
      " I Love LetsUpgrade \n",
      "\n",
      " I Love LetsUpgrade because you guys made learning python lot more easier \n",
      "\n"
     ]
    }
   ],
   "source": [
    "n=open('newFile.txt','w')\n",
    "n.write(\" I Love LetsUpgrade\")\n",
    "n.close()\n",
    "\n",
    "n=open('newFile.txt','r')\n",
    "print(n.read(),\"\\n\")\n",
    "n.close()\n",
    "\n",
    "n=open('newFile.txt','a')\n",
    "n.write(\" because you guys made learning python lot more easier\")\n",
    "n.close()\n",
    "\n",
    "n=open('newFile.txt','r')\n",
    "print(n.read(),\"\\n\")\n",
    "n.close()"
   ]
  },
  {
   "cell_type": "markdown",
   "metadata": {},
   "source": [
    "# Question 2"
   ]
  },
  {
   "cell_type": "code",
   "execution_count": 2,
   "metadata": {},
   "outputs": [
    {
     "name": "stdout",
     "output_type": "stream",
     "text": [
      "Factorial of ? 5\n",
      "\n",
      " Factorial of  120\n"
     ]
    }
   ],
   "source": [
    "def factorial(n):\n",
    "    if n==0:\n",
    "        return 1\n",
    "    else:\n",
    "        return n*factorial(n-1)\n",
    "n = int(input(\"Factorial of ? \"))\n",
    "print(\"\\n\",\"Factorial of \", factorial(n))"
   ]
  },
  {
   "cell_type": "code",
   "execution_count": null,
   "metadata": {},
   "outputs": [],
   "source": []
  }
 ],
 "metadata": {
  "kernelspec": {
   "display_name": "Python 3",
   "language": "python",
   "name": "python3"
  },
  "language_info": {
   "codemirror_mode": {
    "name": "ipython",
    "version": 3
   },
   "file_extension": ".py",
   "mimetype": "text/x-python",
   "name": "python",
   "nbconvert_exporter": "python",
   "pygments_lexer": "ipython3",
   "version": "3.7.6"
  }
 },
 "nbformat": 4,
 "nbformat_minor": 4
}
